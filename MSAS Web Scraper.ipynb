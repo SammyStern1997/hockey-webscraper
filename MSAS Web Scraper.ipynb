{
 "cells": [
  {
   "cell_type": "code",
   "execution_count": null,
   "metadata": {
    "ExecuteTime": {
     "end_time": "2021-04-02T00:54:14.707884Z",
     "start_time": "2021-04-02T00:54:12.802455Z"
    }
   },
   "outputs": [],
   "source": [
    "import warnings\n",
    "warnings.filterwarnings('ignore')\n",
    "\n",
    "import numpy               as np\n",
    "import pandas              as pd\n",
    "import matplotlib.pyplot   as plt\n",
    "import seaborn             as sns\n",
    "\n",
    "import re\n",
    "from bs4 import BeautifulSoup\n",
    "import requests\n",
    "import validators\n",
    "\n",
    "%matplotlib inline"
   ]
  },
  {
   "cell_type": "code",
   "execution_count": null,
   "metadata": {
    "ExecuteTime": {
     "end_time": "2021-04-02T00:54:14.712956Z",
     "start_time": "2021-04-02T00:54:14.710010Z"
    }
   },
   "outputs": [],
   "source": [
    "flag = False\n",
    "player_urls = []\n",
    "\n",
    "while not flag:\n",
    "    player_url = input(\"\"\"Please copy and paste your prospect's URL (type 'exit' when done): \"\"\")\n",
    "    if player_url.lower() == 'exit': \n",
    "        break\n",
    "    valid = validators.url(player_url)\n",
    "    if valid == False or player_url[0:4] != 'http' or \"eliteprospects.com\" not in player_url:\n",
    "        print(\"Invalid URL, please try again.\")\n",
    "    else:\n",
    "        player_urls.append(player_url)\n",
    "        \n",
    "# URL EXAMPLES\n",
    "# player_urls = [\"https://www.eliteprospects.com/player/90230/a.j.-white\",\n",
    "#                \"https://www.eliteprospects.com/player/232966/matt-jurusik\",\n",
    "#                \"https://www.eliteprospects.com/player/91186/mikko-rantanen\",\n",
    "#                \"https://www.eliteprospects.com/player/199655/cale-makar\"]"
   ]
  },
  {
   "cell_type": "code",
   "execution_count": null,
   "metadata": {
    "ExecuteTime": {
     "end_time": "2021-04-02T00:54:19.594085Z",
     "start_time": "2021-04-02T00:54:14.721067Z"
    }
   },
   "outputs": [],
   "source": [
    "data = []\n",
    "\n",
    "for player in player_urls:\n",
    "    data.append(requests.get(player).text)"
   ]
  },
  {
   "cell_type": "code",
   "execution_count": null,
   "metadata": {
    "ExecuteTime": {
     "end_time": "2021-04-02T00:54:20.277533Z",
     "start_time": "2021-04-02T00:54:19.596334Z"
    }
   },
   "outputs": [],
   "source": [
    "soup = []\n",
    "for player in data:\n",
    "    soup.append(BeautifulSoup(player,\"html.parser\"))"
   ]
  },
  {
   "cell_type": "markdown",
   "metadata": {},
   "source": [
    "## Player Info"
   ]
  },
  {
   "cell_type": "code",
   "execution_count": null,
   "metadata": {
    "ExecuteTime": {
     "end_time": "2021-04-02T00:54:20.299994Z",
     "start_time": "2021-04-02T00:54:20.280297Z"
    }
   },
   "outputs": [],
   "source": [
    "player_data_header = ['Name']\n",
    "\n",
    "for element in soup[0].find_all(\"div\", class_=\"col-xs-12 col-6 p-0\"):\n",
    "    player_data_header.append(element.text.strip())\n",
    "\n",
    "for element in soup[0].find_all(\"div\", class_=\"col-xs-12 col-7 p-0\"):\n",
    "    player_data_header.append(element.text.strip())"
   ]
  },
  {
   "cell_type": "code",
   "execution_count": null,
   "metadata": {
    "ExecuteTime": {
     "end_time": "2021-04-02T00:54:20.403979Z",
     "start_time": "2021-04-02T00:54:20.302122Z"
    }
   },
   "outputs": [],
   "source": [
    "player_data = []\n",
    "\n",
    "for plyr in soup:\n",
    "    for element in plyr.find_all(\"div\", class_=\"ep-entity-header__name\"):\n",
    "        player_data.append(element.text.strip())\n",
    "        \n",
    "    for element in plyr.find_all(\"div\", class_=\"col-xs-12 col-18 text-right p-0 ep-text-color--black\"):\n",
    "        player_data.append(element.text.strip())\n",
    "\n",
    "    for element in plyr.find_all(\"div\", class_=\"col-xs-12 col-17 text-right p-0 ep-text-color--black\"):\n",
    "        player_data.append(element.text.strip())"
   ]
  },
  {
   "cell_type": "code",
   "execution_count": null,
   "metadata": {
    "ExecuteTime": {
     "end_time": "2021-04-02T00:54:20.414031Z",
     "start_time": "2021-04-02T00:54:20.408371Z"
    }
   },
   "outputs": [],
   "source": [
    "player_data_header"
   ]
  },
  {
   "cell_type": "code",
   "execution_count": null,
   "metadata": {
    "ExecuteTime": {
     "end_time": "2021-04-02T00:54:20.418768Z",
     "start_time": "2021-04-02T00:54:20.416775Z"
    }
   },
   "outputs": [],
   "source": [
    "player_data_header[6] = 'Shoots/Catches'"
   ]
  },
  {
   "cell_type": "code",
   "execution_count": null,
   "metadata": {
    "ExecuteTime": {
     "end_time": "2021-04-02T00:54:20.425807Z",
     "start_time": "2021-04-02T00:54:20.420937Z"
    },
    "scrolled": true
   },
   "outputs": [],
   "source": [
    "player_data"
   ]
  },
  {
   "cell_type": "code",
   "execution_count": null,
   "metadata": {
    "ExecuteTime": {
     "end_time": "2021-04-02T00:54:20.429643Z",
     "start_time": "2021-04-02T00:54:20.427330Z"
    }
   },
   "outputs": [],
   "source": [
    "p_data = np.reshape(player_data,(len(player_urls),11))"
   ]
  },
  {
   "cell_type": "code",
   "execution_count": null,
   "metadata": {
    "ExecuteTime": {
     "end_time": "2021-04-02T00:54:20.434932Z",
     "start_time": "2021-04-02T00:54:20.431875Z"
    }
   },
   "outputs": [],
   "source": [
    "df = pd.DataFrame(data= p_data, columns=player_data_header)"
   ]
  },
  {
   "cell_type": "code",
   "execution_count": null,
   "metadata": {
    "ExecuteTime": {
     "end_time": "2021-04-02T00:54:20.458817Z",
     "start_time": "2021-04-02T00:54:20.437055Z"
    }
   },
   "outputs": [],
   "source": [
    "df.head()"
   ]
  },
  {
   "cell_type": "markdown",
   "metadata": {},
   "source": [
    "## Player Statistics"
   ]
  },
  {
   "cell_type": "code",
   "execution_count": null,
   "metadata": {
    "ExecuteTime": {
     "end_time": "2021-04-02T00:54:20.473145Z",
     "start_time": "2021-04-02T00:54:20.462133Z"
    },
    "scrolled": true
   },
   "outputs": [],
   "source": [
    "league_stats = soup[0].find_all(\"div\", id=\"league-stats\")[0]"
   ]
  },
  {
   "cell_type": "code",
   "execution_count": null,
   "metadata": {
    "ExecuteTime": {
     "end_time": "2021-04-02T00:54:20.479981Z",
     "start_time": "2021-04-02T00:54:20.476533Z"
    }
   },
   "outputs": [],
   "source": [
    "non_g_cols = ['Season','Team','League','Regular Games Played','Regular Goals',\n",
    "           'Regular Assists', 'Regular Total Points', 'Regular PIM', 'Regular +/-',\n",
    "           'Postseason Status','Postseason Games Played','Postseason Goals',\n",
    "           'Postseason Assists', 'Postseason Total Points', 'Postseason PIM', 'Postseason +/-']"
   ]
  },
  {
   "cell_type": "code",
   "execution_count": null,
   "metadata": {
    "ExecuteTime": {
     "end_time": "2021-04-02T00:54:20.485715Z",
     "start_time": "2021-04-02T00:54:20.482258Z"
    }
   },
   "outputs": [],
   "source": [
    "g_cols = ['Season', 'Team', 'League', 'Regular Games Played', 'Regular Goal Difference',\n",
    "            'Regular Goal Against Average', 'Regular Save %', 'Regular Goals Against', 'Regular Saves (Total)',\n",
    "            'Regular Shutout', 'Regular Season Record (W-L-T)', 'Regular Time On Ice',\n",
    "            'Postseason', 'Postseason Games Played', 'Postseason Goal Difference', 'Postseason Goal Against Average',\n",
    "            'Postseason Save %', 'Postseason Goals Against', 'Postseason Saves (Total)', 'Postseason Shutout',\n",
    "            'Postseason Season Record (W-L-T)', 'Postseason Time On Ice']"
   ]
  },
  {
   "cell_type": "code",
   "execution_count": null,
   "metadata": {
    "ExecuteTime": {
     "end_time": "2021-04-02T00:54:20.795067Z",
     "start_time": "2021-04-02T00:54:20.488675Z"
    }
   },
   "outputs": [],
   "source": [
    "df_stats = []\n",
    "\n",
    "for player in soup:\n",
    "    league_stats = player.find_all(\"div\", id=\"league-stats\")[0]\n",
    "    \n",
    "    if player.find('div',class_='col-xs-12 col-18 text-right p-0 ep-text-color--black').text.strip() == 'G':\n",
    "        stats_dict = {'season sorted':[], 'team': [], 'league': [], 'regular gp': [],\n",
    "              'regular gd': [], 'regular gaa': [], 'regular svp': [], 'regular ga': [],\n",
    "              'regular svs': [], 'regular so': [], 'regular wlt': [], 'regular toi': [],\n",
    "              'postseason': [], 'postseason gp': [], 'postseason gd': [], 'postseason gaa': [],\n",
    "              'postseason svp': [], 'postseason ga': [], 'postseason svs': [],\n",
    "              'postseason so': [], 'postseason wlt': [], 'postseason toi': []}\n",
    "        for key in stats_dict:\n",
    "            if key == 'postseason':\n",
    "                raw_list = league_stats.tbody.find_all(lambda tag: tag.name == 'td' and tag.get('class') == [key])\n",
    "                stats_dict[key] = list(map(lambda x: x.text.strip(), raw_list))\n",
    "            else:\n",
    "                raw_list = league_stats.tbody.find_all('td', class_=key)\n",
    "                stats_dict[key] = list(map(lambda x: x.text.strip(), raw_list))\n",
    "    \n",
    "        temp_df = pd.DataFrame(stats_dict)\n",
    "        temp_df.columns = g_cols\n",
    "    \n",
    "    else:\n",
    "        stats_dict = {'season sorted':[], 'team': [], 'league': [], 'regular gp': [],\n",
    "                      'regular g': [], 'regular a': [], 'regular tp': [], 'regular pim': [],\n",
    "                      'regular pm': [], 'postseason': [], 'postseason gp': [], 'postseason g': [],\n",
    "                      'postseason a': [], 'postseason tp': [], 'postseason pim': [], 'postseason pm': []}\n",
    "\n",
    "        for key in stats_dict:\n",
    "            if key == 'postseason':\n",
    "                raw_list = league_stats.tbody.find_all(lambda tag: tag.name == 'td' and tag.get('class') == [key])\n",
    "                stats_dict[key] = list(map(lambda x: x.text.strip(), raw_list))  \n",
    "            else:\n",
    "                raw_list = league_stats.tbody.find_all('td', class_=key)\n",
    "                stats_dict[key] = list(map(lambda x: x.text.strip(), raw_list))\n",
    "        \n",
    "        temp_df = pd.DataFrame(stats_dict)\n",
    "        temp_df.columns = non_g_cols\n",
    "    \n",
    "    df_stats.append(temp_df)"
   ]
  },
  {
   "cell_type": "code",
   "execution_count": null,
   "metadata": {},
   "outputs": [],
   "source": [
    "df_stats[0]"
   ]
  },
  {
   "cell_type": "code",
   "execution_count": null,
   "metadata": {
    "ExecuteTime": {
     "end_time": "2021-04-02T00:54:20.800970Z",
     "start_time": "2021-04-02T00:54:20.797675Z"
    }
   },
   "outputs": [],
   "source": [
    "df['Stats'] = df_stats"
   ]
  },
  {
   "cell_type": "code",
   "execution_count": null,
   "metadata": {},
   "outputs": [],
   "source": [
    "df['Stats'][0]"
   ]
  },
  {
   "cell_type": "code",
   "execution_count": null,
   "metadata": {},
   "outputs": [],
   "source": []
  },
  {
   "cell_type": "code",
   "execution_count": null,
   "metadata": {},
   "outputs": [],
   "source": []
  },
  {
   "cell_type": "code",
   "execution_count": null,
   "metadata": {},
   "outputs": [],
   "source": []
  }
 ],
 "metadata": {
  "kernelspec": {
   "display_name": "Python 3",
   "language": "python",
   "name": "python3"
  },
  "language_info": {
   "codemirror_mode": {
    "name": "ipython",
    "version": 3
   },
   "file_extension": ".py",
   "mimetype": "text/x-python",
   "name": "python",
   "nbconvert_exporter": "python",
   "pygments_lexer": "ipython3",
   "version": "3.8.5"
  },
  "varInspector": {
   "cols": {
    "lenName": 16,
    "lenType": 16,
    "lenVar": 40
   },
   "kernels_config": {
    "python": {
     "delete_cmd_postfix": "",
     "delete_cmd_prefix": "del ",
     "library": "var_list.py",
     "varRefreshCmd": "print(var_dic_list())"
    },
    "r": {
     "delete_cmd_postfix": ") ",
     "delete_cmd_prefix": "rm(",
     "library": "var_list.r",
     "varRefreshCmd": "cat(var_dic_list()) "
    }
   },
   "types_to_exclude": [
    "module",
    "function",
    "builtin_function_or_method",
    "instance",
    "_Feature"
   ],
   "window_display": false
  }
 },
 "nbformat": 4,
 "nbformat_minor": 4
}
