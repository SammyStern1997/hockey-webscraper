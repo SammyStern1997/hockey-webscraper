{
 "cells": [
  {
   "cell_type": "code",
   "execution_count": 1,
   "metadata": {
    "ExecuteTime": {
     "end_time": "2021-04-02T00:54:14.707884Z",
     "start_time": "2021-04-02T00:54:12.802455Z"
    }
   },
   "outputs": [],
   "source": [
    "import warnings\n",
    "warnings.filterwarnings('ignore')\n",
    "\n",
    "import numpy               as np\n",
    "import pandas              as pd\n",
    "import matplotlib.pyplot   as plt\n",
    "import seaborn             as sns\n",
    "\n",
    "import re\n",
    "from bs4 import BeautifulSoup\n",
    "import requests\n",
    "\n",
    "%matplotlib inline"
   ]
  },
  {
   "cell_type": "code",
   "execution_count": 2,
   "metadata": {
    "ExecuteTime": {
     "end_time": "2021-04-02T00:54:14.712956Z",
     "start_time": "2021-04-02T00:54:14.710010Z"
    }
   },
   "outputs": [],
   "source": [
    "player_urls = [\"https://www.eliteprospects.com/player/90230/a.j.-white\",\n",
    "               \"https://www.eliteprospects.com/player/232966/matt-jurusik\",\n",
    "               \"https://www.eliteprospects.com/player/91186/mikko-rantanen\",\n",
    "               \"https://www.eliteprospects.com/player/199655/cale-makar\"]"
   ]
  },
  {
   "cell_type": "code",
   "execution_count": 3,
   "metadata": {
    "ExecuteTime": {
     "end_time": "2021-04-02T00:54:19.594085Z",
     "start_time": "2021-04-02T00:54:14.721067Z"
    }
   },
   "outputs": [],
   "source": [
    "data = []\n",
    "\n",
    "for player in player_urls:\n",
    "    data.append(requests.get(player).text)"
   ]
  },
  {
   "cell_type": "code",
   "execution_count": 4,
   "metadata": {
    "ExecuteTime": {
     "end_time": "2021-04-02T00:54:20.277533Z",
     "start_time": "2021-04-02T00:54:19.596334Z"
    }
   },
   "outputs": [],
   "source": [
    "soup = []\n",
    "for player in data:\n",
    "    soup.append(BeautifulSoup(player,\"html.parser\"))"
   ]
  },
  {
   "cell_type": "markdown",
   "metadata": {},
   "source": [
    "## Player Info"
   ]
  },
  {
   "cell_type": "code",
   "execution_count": 5,
   "metadata": {
    "ExecuteTime": {
     "end_time": "2021-04-02T00:54:20.299994Z",
     "start_time": "2021-04-02T00:54:20.280297Z"
    }
   },
   "outputs": [],
   "source": [
    "player_data_header = ['Name']\n",
    "\n",
    "for element in soup[0].find_all(\"div\", class_=\"col-xs-12 col-6 p-0\"):\n",
    "    player_data_header.append(element.text.strip())\n",
    "\n",
    "for element in soup[0].find_all(\"div\", class_=\"col-xs-12 col-7 p-0\"):\n",
    "    player_data_header.append(element.text.strip())"
   ]
  },
  {
   "cell_type": "code",
   "execution_count": 6,
   "metadata": {
    "ExecuteTime": {
     "end_time": "2021-04-02T00:54:20.403979Z",
     "start_time": "2021-04-02T00:54:20.302122Z"
    }
   },
   "outputs": [],
   "source": [
    "player_data = []\n",
    "\n",
    "for plyr in soup:\n",
    "    for element in plyr.find_all(\"div\", class_=\"ep-entity-header__name\"):\n",
    "        player_data.append(element.text.strip())\n",
    "        \n",
    "    for element in plyr.find_all(\"div\", class_=\"col-xs-12 col-18 text-right p-0 ep-text-color--black\"):\n",
    "        player_data.append(element.text.strip())\n",
    "\n",
    "    for element in plyr.find_all(\"div\", class_=\"col-xs-12 col-17 text-right p-0 ep-text-color--black\"):\n",
    "        player_data.append(element.text.strip())"
   ]
  },
  {
   "cell_type": "code",
   "execution_count": 7,
   "metadata": {
    "ExecuteTime": {
     "end_time": "2021-04-02T00:54:20.414031Z",
     "start_time": "2021-04-02T00:54:20.408371Z"
    }
   },
   "outputs": [
    {
     "data": {
      "text/plain": [
       "['Name',\n",
       " 'Position',\n",
       " 'Age',\n",
       " 'Height',\n",
       " 'Weight',\n",
       " 'Nation',\n",
       " 'Shoots',\n",
       " 'Youth Team',\n",
       " 'Contract',\n",
       " 'Date of Birth',\n",
       " 'Place of Birth']"
      ]
     },
     "execution_count": 7,
     "metadata": {},
     "output_type": "execute_result"
    }
   ],
   "source": [
    "player_data_header"
   ]
  },
  {
   "cell_type": "code",
   "execution_count": 8,
   "metadata": {
    "ExecuteTime": {
     "end_time": "2021-04-02T00:54:20.418768Z",
     "start_time": "2021-04-02T00:54:20.416775Z"
    }
   },
   "outputs": [],
   "source": [
    "player_data_header[6] = 'Shoots/Catches'"
   ]
  },
  {
   "cell_type": "code",
   "execution_count": 9,
   "metadata": {
    "ExecuteTime": {
     "end_time": "2021-04-02T00:54:20.425807Z",
     "start_time": "2021-04-02T00:54:20.420937Z"
    },
    "scrolled": true
   },
   "outputs": [
    {
     "data": {
      "text/plain": [
       "['A.J. White',\n",
       " 'LW',\n",
       " '28',\n",
       " '6\\'2\" / 188 cm',\n",
       " '201 lbs / 91 kg',\n",
       " 'USA',\n",
       " 'L',\n",
       " '-',\n",
       " '20/21',\n",
       " 'Apr 19, 1992',\n",
       " 'Dearborn, MI, USA',\n",
       " 'Matt Jurusik',\n",
       " 'G',\n",
       " '23',\n",
       " '6\\'2\" / 188 cm',\n",
       " '194 lbs / 88 kg',\n",
       " 'USA',\n",
       " 'L',\n",
       " '-',\n",
       " 'Try-out',\n",
       " 'May 01, 1997',\n",
       " 'La Grange, IL, USA',\n",
       " 'Mikko Rantanen',\n",
       " 'RW',\n",
       " '24',\n",
       " '6\\'4\" / 193 cm',\n",
       " '216 lbs / 98 kg',\n",
       " 'Finland',\n",
       " 'L',\n",
       " 'TPS',\n",
       " '24/25',\n",
       " 'Oct 29, 1996',\n",
       " 'Nousiainen, FIN',\n",
       " 'Cale Makar',\n",
       " 'D',\n",
       " '22',\n",
       " '5\\'11\" / 180 cm',\n",
       " '187 lbs / 85 kg',\n",
       " 'Canada',\n",
       " 'R',\n",
       " 'Crowchild MHA',\n",
       " '20/21',\n",
       " 'Oct 30, 1998',\n",
       " 'Calgary, AB, CAN']"
      ]
     },
     "execution_count": 9,
     "metadata": {},
     "output_type": "execute_result"
    }
   ],
   "source": [
    "player_data"
   ]
  },
  {
   "cell_type": "code",
   "execution_count": 10,
   "metadata": {
    "ExecuteTime": {
     "end_time": "2021-04-02T00:54:20.429643Z",
     "start_time": "2021-04-02T00:54:20.427330Z"
    }
   },
   "outputs": [],
   "source": [
    "p_data = np.reshape(player_data,(len(player_urls),11))"
   ]
  },
  {
   "cell_type": "code",
   "execution_count": 11,
   "metadata": {
    "ExecuteTime": {
     "end_time": "2021-04-02T00:54:20.434932Z",
     "start_time": "2021-04-02T00:54:20.431875Z"
    }
   },
   "outputs": [],
   "source": [
    "df = pd.DataFrame(data= p_data, columns=player_data_header)"
   ]
  },
  {
   "cell_type": "code",
   "execution_count": 12,
   "metadata": {
    "ExecuteTime": {
     "end_time": "2021-04-02T00:54:20.458817Z",
     "start_time": "2021-04-02T00:54:20.437055Z"
    }
   },
   "outputs": [
    {
     "data": {
      "text/html": [
       "<div>\n",
       "<style scoped>\n",
       "    .dataframe tbody tr th:only-of-type {\n",
       "        vertical-align: middle;\n",
       "    }\n",
       "\n",
       "    .dataframe tbody tr th {\n",
       "        vertical-align: top;\n",
       "    }\n",
       "\n",
       "    .dataframe thead th {\n",
       "        text-align: right;\n",
       "    }\n",
       "</style>\n",
       "<table border=\"1\" class=\"dataframe\">\n",
       "  <thead>\n",
       "    <tr style=\"text-align: right;\">\n",
       "      <th></th>\n",
       "      <th>Name</th>\n",
       "      <th>Position</th>\n",
       "      <th>Age</th>\n",
       "      <th>Height</th>\n",
       "      <th>Weight</th>\n",
       "      <th>Nation</th>\n",
       "      <th>Shoots/Catches</th>\n",
       "      <th>Youth Team</th>\n",
       "      <th>Contract</th>\n",
       "      <th>Date of Birth</th>\n",
       "      <th>Place of Birth</th>\n",
       "    </tr>\n",
       "  </thead>\n",
       "  <tbody>\n",
       "    <tr>\n",
       "      <th>0</th>\n",
       "      <td>A.J. White</td>\n",
       "      <td>LW</td>\n",
       "      <td>28</td>\n",
       "      <td>6'2\" / 188 cm</td>\n",
       "      <td>201 lbs / 91 kg</td>\n",
       "      <td>USA</td>\n",
       "      <td>L</td>\n",
       "      <td>-</td>\n",
       "      <td>20/21</td>\n",
       "      <td>Apr 19, 1992</td>\n",
       "      <td>Dearborn, MI, USA</td>\n",
       "    </tr>\n",
       "    <tr>\n",
       "      <th>1</th>\n",
       "      <td>Matt Jurusik</td>\n",
       "      <td>G</td>\n",
       "      <td>23</td>\n",
       "      <td>6'2\" / 188 cm</td>\n",
       "      <td>194 lbs / 88 kg</td>\n",
       "      <td>USA</td>\n",
       "      <td>L</td>\n",
       "      <td>-</td>\n",
       "      <td>Try-out</td>\n",
       "      <td>May 01, 1997</td>\n",
       "      <td>La Grange, IL, USA</td>\n",
       "    </tr>\n",
       "    <tr>\n",
       "      <th>2</th>\n",
       "      <td>Mikko Rantanen</td>\n",
       "      <td>RW</td>\n",
       "      <td>24</td>\n",
       "      <td>6'4\" / 193 cm</td>\n",
       "      <td>216 lbs / 98 kg</td>\n",
       "      <td>Finland</td>\n",
       "      <td>L</td>\n",
       "      <td>TPS</td>\n",
       "      <td>24/25</td>\n",
       "      <td>Oct 29, 1996</td>\n",
       "      <td>Nousiainen, FIN</td>\n",
       "    </tr>\n",
       "    <tr>\n",
       "      <th>3</th>\n",
       "      <td>Cale Makar</td>\n",
       "      <td>D</td>\n",
       "      <td>22</td>\n",
       "      <td>5'11\" / 180 cm</td>\n",
       "      <td>187 lbs / 85 kg</td>\n",
       "      <td>Canada</td>\n",
       "      <td>R</td>\n",
       "      <td>Crowchild MHA</td>\n",
       "      <td>20/21</td>\n",
       "      <td>Oct 30, 1998</td>\n",
       "      <td>Calgary, AB, CAN</td>\n",
       "    </tr>\n",
       "  </tbody>\n",
       "</table>\n",
       "</div>"
      ],
      "text/plain": [
       "             Name Position Age          Height           Weight   Nation  \\\n",
       "0      A.J. White       LW  28   6'2\" / 188 cm  201 lbs / 91 kg      USA   \n",
       "1    Matt Jurusik        G  23   6'2\" / 188 cm  194 lbs / 88 kg      USA   \n",
       "2  Mikko Rantanen       RW  24   6'4\" / 193 cm  216 lbs / 98 kg  Finland   \n",
       "3      Cale Makar        D  22  5'11\" / 180 cm  187 lbs / 85 kg   Canada   \n",
       "\n",
       "  Shoots/Catches     Youth Team Contract Date of Birth      Place of Birth  \n",
       "0              L              -    20/21  Apr 19, 1992   Dearborn, MI, USA  \n",
       "1              L              -  Try-out  May 01, 1997  La Grange, IL, USA  \n",
       "2              L            TPS    24/25  Oct 29, 1996     Nousiainen, FIN  \n",
       "3              R  Crowchild MHA    20/21  Oct 30, 1998    Calgary, AB, CAN  "
      ]
     },
     "execution_count": 12,
     "metadata": {},
     "output_type": "execute_result"
    }
   ],
   "source": [
    "df.head()"
   ]
  },
  {
   "cell_type": "markdown",
   "metadata": {},
   "source": [
    "## Player Statistics"
   ]
  },
  {
   "cell_type": "code",
   "execution_count": 13,
   "metadata": {
    "ExecuteTime": {
     "end_time": "2021-04-02T00:54:20.473145Z",
     "start_time": "2021-04-02T00:54:20.462133Z"
    },
    "scrolled": true
   },
   "outputs": [],
   "source": [
    "league_stats = soup[0].find_all(\"div\", id=\"league-stats\")[0]"
   ]
  },
  {
   "cell_type": "code",
   "execution_count": 14,
   "metadata": {
    "ExecuteTime": {
     "end_time": "2021-04-02T00:54:20.479981Z",
     "start_time": "2021-04-02T00:54:20.476533Z"
    }
   },
   "outputs": [],
   "source": [
    "non_g_cols = ['Season','Team','League','Regular Games Played','Regular Goals',\n",
    "           'Regular Assists', 'Regular Total Points', 'Regular PIM', 'Regular +/-',\n",
    "           'Postseason Status','Postseason Games Played','Postseason Goals',\n",
    "           'Postseason Assists', 'Postseason Total Points', 'Postseason PIM', 'Postseason +/-']"
   ]
  },
  {
   "cell_type": "code",
   "execution_count": 15,
   "metadata": {
    "ExecuteTime": {
     "end_time": "2021-04-02T00:54:20.485715Z",
     "start_time": "2021-04-02T00:54:20.482258Z"
    }
   },
   "outputs": [],
   "source": [
    "g_cols = ['Season', 'Team', 'League', 'Regular Games Played', 'Regular Goal Difference',\n",
    "            'Regular Goal Against Average', 'Regular Save %', 'Regular Goals Against', 'Regular Saves (Total)',\n",
    "            'Regular Shutout', 'Regular Season Record (W-L-T)', 'Regular Time On Ice',\n",
    "            'Postseason', 'Postseason Games Played', 'Postseason Goal Difference', 'Postseason Goal Against Average',\n",
    "            'Postseason Save %', 'Postseason Goals Against', 'Postseason Saves (Total)', 'Postseason Shutout',\n",
    "            'Postseason Season Record (W-L-T)', 'Postseason Time On Ice']"
   ]
  },
  {
   "cell_type": "code",
   "execution_count": 16,
   "metadata": {
    "ExecuteTime": {
     "end_time": "2021-04-02T00:54:20.795067Z",
     "start_time": "2021-04-02T00:54:20.488675Z"
    }
   },
   "outputs": [],
   "source": [
    "df_stats = []\n",
    "\n",
    "for player in soup:\n",
    "    league_stats = player.find_all(\"div\", id=\"league-stats\")[0]\n",
    "    \n",
    "    if player.find('div',class_='col-xs-12 col-18 text-right p-0 ep-text-color--black').text.strip() == 'G':\n",
    "        stats_dict = {'season sorted':[], 'team': [], 'league': [], 'regular gp': [],\n",
    "              'regular gd': [], 'regular gaa': [], 'regular svp': [], 'regular ga': [],\n",
    "              'regular svs': [], 'regular so': [], 'regular wlt': [], 'regular toi': [],\n",
    "              'postseason': [], 'postseason gp': [], 'postseason gd': [], 'postseason gaa': [],\n",
    "              'postseason svp': [], 'postseason ga': [], 'postseason svs': [],\n",
    "              'postseason so': [], 'postseason wlt': [], 'postseason toi': []}\n",
    "        for key in stats_dict:\n",
    "            if key == 'postseason':\n",
    "                raw_list = league_stats.tbody.find_all(lambda tag: tag.name == 'td' and tag.get('class') == [key])\n",
    "                stats_dict[key] = list(map(lambda x: x.text.strip(), raw_list))\n",
    "            else:\n",
    "                raw_list = league_stats.tbody.find_all('td', class_=key)\n",
    "                stats_dict[key] = list(map(lambda x: x.text.strip(), raw_list))\n",
    "    \n",
    "        temp_df = pd.DataFrame(stats_dict)\n",
    "        temp_df.columns = g_cols\n",
    "    \n",
    "    else:\n",
    "        stats_dict = {'season sorted':[], 'team': [], 'league': [], 'regular gp': [],\n",
    "                      'regular g': [], 'regular a': [], 'regular tp': [], 'regular pim': [],\n",
    "                      'regular pm': [], 'postseason': [], 'postseason gp': [], 'postseason g': [],\n",
    "                      'postseason a': [], 'postseason tp': [], 'postseason pim': [], 'postseason pm': []}\n",
    "\n",
    "        for key in stats_dict:\n",
    "            if key == 'postseason':\n",
    "                raw_list = league_stats.tbody.find_all(lambda tag: tag.name == 'td' and tag.get('class') == [key])\n",
    "                stats_dict[key] = list(map(lambda x: x.text.strip(), raw_list))  \n",
    "            else:\n",
    "                raw_list = league_stats.tbody.find_all('td', class_=key)\n",
    "                stats_dict[key] = list(map(lambda x: x.text.strip(), raw_list))\n",
    "        \n",
    "        temp_df = pd.DataFrame(stats_dict)\n",
    "        temp_df.columns = non_g_cols\n",
    "    \n",
    "    df_stats.append(temp_df)"
   ]
  },
  {
   "cell_type": "code",
   "execution_count": 17,
   "metadata": {
    "ExecuteTime": {
     "end_time": "2021-04-02T00:54:20.800970Z",
     "start_time": "2021-04-02T00:54:20.797675Z"
    }
   },
   "outputs": [],
   "source": [
    "df['Stats'] = df_stats"
   ]
  },
  {
   "cell_type": "code",
   "execution_count": 18,
   "metadata": {
    "ExecuteTime": {
     "end_time": "2021-04-02T00:54:20.883179Z",
     "start_time": "2021-04-02T00:54:20.802534Z"
    },
    "scrolled": true
   },
   "outputs": [
    {
     "data": {
      "text/html": [
       "<div>\n",
       "<style scoped>\n",
       "    .dataframe tbody tr th:only-of-type {\n",
       "        vertical-align: middle;\n",
       "    }\n",
       "\n",
       "    .dataframe tbody tr th {\n",
       "        vertical-align: top;\n",
       "    }\n",
       "\n",
       "    .dataframe thead th {\n",
       "        text-align: right;\n",
       "    }\n",
       "</style>\n",
       "<table border=\"1\" class=\"dataframe\">\n",
       "  <thead>\n",
       "    <tr style=\"text-align: right;\">\n",
       "      <th></th>\n",
       "      <th>Name</th>\n",
       "      <th>Position</th>\n",
       "      <th>Age</th>\n",
       "      <th>Height</th>\n",
       "      <th>Weight</th>\n",
       "      <th>Nation</th>\n",
       "      <th>Shoots/Catches</th>\n",
       "      <th>Youth Team</th>\n",
       "      <th>Contract</th>\n",
       "      <th>Date of Birth</th>\n",
       "      <th>Place of Birth</th>\n",
       "      <th>Stats</th>\n",
       "    </tr>\n",
       "  </thead>\n",
       "  <tbody>\n",
       "    <tr>\n",
       "      <th>0</th>\n",
       "      <td>A.J. White</td>\n",
       "      <td>LW</td>\n",
       "      <td>28</td>\n",
       "      <td>6'2\" / 188 cm</td>\n",
       "      <td>201 lbs / 91 kg</td>\n",
       "      <td>USA</td>\n",
       "      <td>L</td>\n",
       "      <td>-</td>\n",
       "      <td>20/21</td>\n",
       "      <td>Apr 19, 1992</td>\n",
       "      <td>Dearborn, MI, USA</td>\n",
       "      <td>Season                    Team     League...</td>\n",
       "    </tr>\n",
       "    <tr>\n",
       "      <th>1</th>\n",
       "      <td>Matt Jurusik</td>\n",
       "      <td>G</td>\n",
       "      <td>23</td>\n",
       "      <td>6'2\" / 188 cm</td>\n",
       "      <td>194 lbs / 88 kg</td>\n",
       "      <td>USA</td>\n",
       "      <td>L</td>\n",
       "      <td>-</td>\n",
       "      <td>Try-out</td>\n",
       "      <td>May 01, 1997</td>\n",
       "      <td>La Grange, IL, USA</td>\n",
       "      <td>Season                      Team     Leag...</td>\n",
       "    </tr>\n",
       "    <tr>\n",
       "      <th>2</th>\n",
       "      <td>Mikko Rantanen</td>\n",
       "      <td>RW</td>\n",
       "      <td>24</td>\n",
       "      <td>6'4\" / 193 cm</td>\n",
       "      <td>216 lbs / 98 kg</td>\n",
       "      <td>Finland</td>\n",
       "      <td>L</td>\n",
       "      <td>TPS</td>\n",
       "      <td>24/25</td>\n",
       "      <td>Oct 29, 1996</td>\n",
       "      <td>Nousiainen, FIN</td>\n",
       "      <td>Season                      Team         ...</td>\n",
       "    </tr>\n",
       "    <tr>\n",
       "      <th>3</th>\n",
       "      <td>Cale Makar</td>\n",
       "      <td>D</td>\n",
       "      <td>22</td>\n",
       "      <td>5'11\" / 180 cm</td>\n",
       "      <td>187 lbs / 85 kg</td>\n",
       "      <td>Canada</td>\n",
       "      <td>R</td>\n",
       "      <td>Crowchild MHA</td>\n",
       "      <td>20/21</td>\n",
       "      <td>Oct 30, 1998</td>\n",
       "      <td>Calgary, AB, CAN</td>\n",
       "      <td>Season                      Team  League ...</td>\n",
       "    </tr>\n",
       "  </tbody>\n",
       "</table>\n",
       "</div>"
      ],
      "text/plain": [
       "             Name Position Age          Height           Weight   Nation  \\\n",
       "0      A.J. White       LW  28   6'2\" / 188 cm  201 lbs / 91 kg      USA   \n",
       "1    Matt Jurusik        G  23   6'2\" / 188 cm  194 lbs / 88 kg      USA   \n",
       "2  Mikko Rantanen       RW  24   6'4\" / 193 cm  216 lbs / 98 kg  Finland   \n",
       "3      Cale Makar        D  22  5'11\" / 180 cm  187 lbs / 85 kg   Canada   \n",
       "\n",
       "  Shoots/Catches     Youth Team Contract Date of Birth      Place of Birth  \\\n",
       "0              L              -    20/21  Apr 19, 1992   Dearborn, MI, USA   \n",
       "1              L              -  Try-out  May 01, 1997  La Grange, IL, USA   \n",
       "2              L            TPS    24/25  Oct 29, 1996     Nousiainen, FIN   \n",
       "3              R  Crowchild MHA    20/21  Oct 30, 1998    Calgary, AB, CAN   \n",
       "\n",
       "                                               Stats  \n",
       "0       Season                    Team     League...  \n",
       "1       Season                      Team     Leag...  \n",
       "2       Season                      Team         ...  \n",
       "3       Season                      Team  League ...  "
      ]
     },
     "execution_count": 18,
     "metadata": {},
     "output_type": "execute_result"
    }
   ],
   "source": [
    "df.head()"
   ]
  },
  {
   "cell_type": "code",
   "execution_count": 19,
   "metadata": {
    "ExecuteTime": {
     "end_time": "2021-04-02T00:54:20.907566Z",
     "start_time": "2021-04-02T00:54:20.884795Z"
    },
    "scrolled": false
   },
   "outputs": [
    {
     "data": {
      "text/html": [
       "<div>\n",
       "<style scoped>\n",
       "    .dataframe tbody tr th:only-of-type {\n",
       "        vertical-align: middle;\n",
       "    }\n",
       "\n",
       "    .dataframe tbody tr th {\n",
       "        vertical-align: top;\n",
       "    }\n",
       "\n",
       "    .dataframe thead th {\n",
       "        text-align: right;\n",
       "    }\n",
       "</style>\n",
       "<table border=\"1\" class=\"dataframe\">\n",
       "  <thead>\n",
       "    <tr style=\"text-align: right;\">\n",
       "      <th></th>\n",
       "      <th>Season</th>\n",
       "      <th>Team</th>\n",
       "      <th>League</th>\n",
       "      <th>Regular Games Played</th>\n",
       "      <th>Regular Goals</th>\n",
       "      <th>Regular Assists</th>\n",
       "      <th>Regular Total Points</th>\n",
       "      <th>Regular PIM</th>\n",
       "      <th>Regular +/-</th>\n",
       "      <th>Postseason Status</th>\n",
       "      <th>Postseason Games Played</th>\n",
       "      <th>Postseason Goals</th>\n",
       "      <th>Postseason Assists</th>\n",
       "      <th>Postseason Total Points</th>\n",
       "      <th>Postseason PIM</th>\n",
       "      <th>Postseason +/-</th>\n",
       "    </tr>\n",
       "  </thead>\n",
       "  <tbody>\n",
       "    <tr>\n",
       "      <th>0</th>\n",
       "      <td>2011-12</td>\n",
       "      <td>NWCAA Bruins U15 AA</td>\n",
       "      <td>HCBAA</td>\n",
       "      <td>28</td>\n",
       "      <td>4</td>\n",
       "      <td>16</td>\n",
       "      <td>20</td>\n",
       "      <td>18</td>\n",
       "      <td></td>\n",
       "      <td>Playoffs</td>\n",
       "      <td>5</td>\n",
       "      <td>0</td>\n",
       "      <td>3</td>\n",
       "      <td>3</td>\n",
       "      <td>0</td>\n",
       "      <td></td>\n",
       "    </tr>\n",
       "    <tr>\n",
       "      <th>1</th>\n",
       "      <td>2012-13</td>\n",
       "      <td>Calgary Flames U15 AAA</td>\n",
       "      <td>AMBHL</td>\n",
       "      <td>33</td>\n",
       "      <td>3</td>\n",
       "      <td>19</td>\n",
       "      <td>22</td>\n",
       "      <td>22</td>\n",
       "      <td></td>\n",
       "      <td></td>\n",
       "      <td></td>\n",
       "      <td></td>\n",
       "      <td></td>\n",
       "      <td></td>\n",
       "      <td></td>\n",
       "      <td></td>\n",
       "    </tr>\n",
       "    <tr>\n",
       "      <th>2</th>\n",
       "      <td>2013-14</td>\n",
       "      <td>NWCAA Stampeders U16 AAA</td>\n",
       "      <td>AMMHL</td>\n",
       "      <td>36</td>\n",
       "      <td>9</td>\n",
       "      <td>19</td>\n",
       "      <td>28</td>\n",
       "      <td>35</td>\n",
       "      <td></td>\n",
       "      <td></td>\n",
       "      <td></td>\n",
       "      <td></td>\n",
       "      <td></td>\n",
       "      <td></td>\n",
       "      <td></td>\n",
       "      <td></td>\n",
       "    </tr>\n",
       "    <tr>\n",
       "      <th>3</th>\n",
       "      <td></td>\n",
       "      <td>Calgary Flames U18 AAA</td>\n",
       "      <td>AMHL</td>\n",
       "      <td>6</td>\n",
       "      <td>0</td>\n",
       "      <td>1</td>\n",
       "      <td>1</td>\n",
       "      <td>4</td>\n",
       "      <td></td>\n",
       "      <td></td>\n",
       "      <td></td>\n",
       "      <td></td>\n",
       "      <td></td>\n",
       "      <td></td>\n",
       "      <td></td>\n",
       "      <td></td>\n",
       "    </tr>\n",
       "    <tr>\n",
       "      <th>4</th>\n",
       "      <td>2014-15</td>\n",
       "      <td>Calgary Flames U18 AAA</td>\n",
       "      <td>AMHL</td>\n",
       "      <td>34</td>\n",
       "      <td>7</td>\n",
       "      <td>16</td>\n",
       "      <td>23</td>\n",
       "      <td>14</td>\n",
       "      <td></td>\n",
       "      <td>Playoffs</td>\n",
       "      <td>2</td>\n",
       "      <td>0</td>\n",
       "      <td>0</td>\n",
       "      <td>0</td>\n",
       "      <td>0</td>\n",
       "      <td></td>\n",
       "    </tr>\n",
       "    <tr>\n",
       "      <th>5</th>\n",
       "      <td></td>\n",
       "      <td>Brooks Bandits</td>\n",
       "      <td>AJHL</td>\n",
       "      <td>3</td>\n",
       "      <td>1</td>\n",
       "      <td>4</td>\n",
       "      <td>5</td>\n",
       "      <td>4</td>\n",
       "      <td></td>\n",
       "      <td>Playoffs</td>\n",
       "      <td>20</td>\n",
       "      <td>1</td>\n",
       "      <td>6</td>\n",
       "      <td>7</td>\n",
       "      <td>4</td>\n",
       "      <td></td>\n",
       "    </tr>\n",
       "    <tr>\n",
       "      <th>6</th>\n",
       "      <td>2015-16</td>\n",
       "      <td>Brooks Bandits</td>\n",
       "      <td>AJHL</td>\n",
       "      <td>54</td>\n",
       "      <td>10</td>\n",
       "      <td>45</td>\n",
       "      <td>55</td>\n",
       "      <td>28</td>\n",
       "      <td></td>\n",
       "      <td>Playoffs</td>\n",
       "      <td>13</td>\n",
       "      <td>3</td>\n",
       "      <td>11</td>\n",
       "      <td>14</td>\n",
       "      <td>0</td>\n",
       "      <td></td>\n",
       "    </tr>\n",
       "    <tr>\n",
       "      <th>7</th>\n",
       "      <td>2016-17</td>\n",
       "      <td>Brooks Bandits</td>\n",
       "      <td>AJHL</td>\n",
       "      <td>54</td>\n",
       "      <td>24</td>\n",
       "      <td>51</td>\n",
       "      <td>75</td>\n",
       "      <td>18</td>\n",
       "      <td></td>\n",
       "      <td>Playoffs</td>\n",
       "      <td>13</td>\n",
       "      <td>5</td>\n",
       "      <td>11</td>\n",
       "      <td>16</td>\n",
       "      <td>4</td>\n",
       "      <td></td>\n",
       "    </tr>\n",
       "    <tr>\n",
       "      <th>8</th>\n",
       "      <td>2017-18</td>\n",
       "      <td>UMass</td>\n",
       "      <td>NCAA</td>\n",
       "      <td>34</td>\n",
       "      <td>5</td>\n",
       "      <td>16</td>\n",
       "      <td>21</td>\n",
       "      <td>20</td>\n",
       "      <td>9</td>\n",
       "      <td></td>\n",
       "      <td></td>\n",
       "      <td></td>\n",
       "      <td></td>\n",
       "      <td></td>\n",
       "      <td></td>\n",
       "      <td></td>\n",
       "    </tr>\n",
       "    <tr>\n",
       "      <th>9</th>\n",
       "      <td></td>\n",
       "      <td>Canada U20</td>\n",
       "      <td>WJC-20</td>\n",
       "      <td>7</td>\n",
       "      <td>3</td>\n",
       "      <td>5</td>\n",
       "      <td>8</td>\n",
       "      <td>0</td>\n",
       "      <td>5</td>\n",
       "      <td></td>\n",
       "      <td></td>\n",
       "      <td></td>\n",
       "      <td></td>\n",
       "      <td></td>\n",
       "      <td></td>\n",
       "      <td></td>\n",
       "    </tr>\n",
       "    <tr>\n",
       "      <th>10</th>\n",
       "      <td>2018-19</td>\n",
       "      <td>UMass \\n“C”</td>\n",
       "      <td>NCAA</td>\n",
       "      <td>41</td>\n",
       "      <td>16</td>\n",
       "      <td>33</td>\n",
       "      <td>49</td>\n",
       "      <td>31</td>\n",
       "      <td>32</td>\n",
       "      <td></td>\n",
       "      <td></td>\n",
       "      <td></td>\n",
       "      <td></td>\n",
       "      <td></td>\n",
       "      <td></td>\n",
       "      <td></td>\n",
       "    </tr>\n",
       "    <tr>\n",
       "      <th>11</th>\n",
       "      <td></td>\n",
       "      <td>Colorado Avalanche</td>\n",
       "      <td>NHL</td>\n",
       "      <td>0</td>\n",
       "      <td>0</td>\n",
       "      <td>0</td>\n",
       "      <td>0</td>\n",
       "      <td>0</td>\n",
       "      <td>0</td>\n",
       "      <td>Playoffs</td>\n",
       "      <td>10</td>\n",
       "      <td>1</td>\n",
       "      <td>5</td>\n",
       "      <td>6</td>\n",
       "      <td>0</td>\n",
       "      <td>3</td>\n",
       "    </tr>\n",
       "    <tr>\n",
       "      <th>12</th>\n",
       "      <td>2019-20</td>\n",
       "      <td>Colorado Avalanche</td>\n",
       "      <td>NHL</td>\n",
       "      <td>57</td>\n",
       "      <td>12</td>\n",
       "      <td>38</td>\n",
       "      <td>50</td>\n",
       "      <td>12</td>\n",
       "      <td>12</td>\n",
       "      <td>Playoffs</td>\n",
       "      <td>15</td>\n",
       "      <td>4</td>\n",
       "      <td>11</td>\n",
       "      <td>15</td>\n",
       "      <td>0</td>\n",
       "      <td>12</td>\n",
       "    </tr>\n",
       "    <tr>\n",
       "      <th>13</th>\n",
       "      <td>2020-21</td>\n",
       "      <td>Colorado Avalanche</td>\n",
       "      <td>NHL</td>\n",
       "      <td>23</td>\n",
       "      <td>3</td>\n",
       "      <td>19</td>\n",
       "      <td>22</td>\n",
       "      <td>6</td>\n",
       "      <td>13</td>\n",
       "      <td></td>\n",
       "      <td></td>\n",
       "      <td></td>\n",
       "      <td></td>\n",
       "      <td></td>\n",
       "      <td></td>\n",
       "      <td></td>\n",
       "    </tr>\n",
       "  </tbody>\n",
       "</table>\n",
       "</div>"
      ],
      "text/plain": [
       "     Season                      Team  League Regular Games Played  \\\n",
       "0   2011-12       NWCAA Bruins U15 AA   HCBAA                   28   \n",
       "1   2012-13    Calgary Flames U15 AAA   AMBHL                   33   \n",
       "2   2013-14  NWCAA Stampeders U16 AAA   AMMHL                   36   \n",
       "3              Calgary Flames U18 AAA    AMHL                    6   \n",
       "4   2014-15    Calgary Flames U18 AAA    AMHL                   34   \n",
       "5                      Brooks Bandits    AJHL                    3   \n",
       "6   2015-16            Brooks Bandits    AJHL                   54   \n",
       "7   2016-17            Brooks Bandits    AJHL                   54   \n",
       "8   2017-18                     UMass    NCAA                   34   \n",
       "9                          Canada U20  WJC-20                    7   \n",
       "10  2018-19               UMass \\n“C”    NCAA                   41   \n",
       "11                 Colorado Avalanche     NHL                    0   \n",
       "12  2019-20        Colorado Avalanche     NHL                   57   \n",
       "13  2020-21        Colorado Avalanche     NHL                   23   \n",
       "\n",
       "   Regular Goals Regular Assists Regular Total Points Regular PIM Regular +/-  \\\n",
       "0              4              16                   20          18               \n",
       "1              3              19                   22          22               \n",
       "2              9              19                   28          35               \n",
       "3              0               1                    1           4               \n",
       "4              7              16                   23          14               \n",
       "5              1               4                    5           4               \n",
       "6             10              45                   55          28               \n",
       "7             24              51                   75          18               \n",
       "8              5              16                   21          20           9   \n",
       "9              3               5                    8           0           5   \n",
       "10            16              33                   49          31          32   \n",
       "11             0               0                    0           0           0   \n",
       "12            12              38                   50          12          12   \n",
       "13             3              19                   22           6          13   \n",
       "\n",
       "   Postseason Status Postseason Games Played Postseason Goals  \\\n",
       "0           Playoffs                       5                0   \n",
       "1                                                               \n",
       "2                                                               \n",
       "3                                                               \n",
       "4           Playoffs                       2                0   \n",
       "5           Playoffs                      20                1   \n",
       "6           Playoffs                      13                3   \n",
       "7           Playoffs                      13                5   \n",
       "8                                                               \n",
       "9                                                               \n",
       "10                                                              \n",
       "11          Playoffs                      10                1   \n",
       "12          Playoffs                      15                4   \n",
       "13                                                              \n",
       "\n",
       "   Postseason Assists Postseason Total Points Postseason PIM Postseason +/-  \n",
       "0                   3                       3              0                 \n",
       "1                                                                            \n",
       "2                                                                            \n",
       "3                                                                            \n",
       "4                   0                       0              0                 \n",
       "5                   6                       7              4                 \n",
       "6                  11                      14              0                 \n",
       "7                  11                      16              4                 \n",
       "8                                                                            \n",
       "9                                                                            \n",
       "10                                                                           \n",
       "11                  5                       6              0              3  \n",
       "12                 11                      15              0             12  \n",
       "13                                                                           "
      ]
     },
     "execution_count": 19,
     "metadata": {},
     "output_type": "execute_result"
    }
   ],
   "source": [
    "df_stats[df.index[df['Name']=='Cale Makar'][0]]"
   ]
  }
 ],
 "metadata": {
  "kernelspec": {
   "display_name": "Python 3",
   "language": "python",
   "name": "python3"
  },
  "language_info": {
   "codemirror_mode": {
    "name": "ipython",
    "version": 3
   },
   "file_extension": ".py",
   "mimetype": "text/x-python",
   "name": "python",
   "nbconvert_exporter": "python",
   "pygments_lexer": "ipython3",
   "version": "3.8.3"
  },
  "varInspector": {
   "cols": {
    "lenName": 16,
    "lenType": 16,
    "lenVar": 40
   },
   "kernels_config": {
    "python": {
     "delete_cmd_postfix": "",
     "delete_cmd_prefix": "del ",
     "library": "var_list.py",
     "varRefreshCmd": "print(var_dic_list())"
    },
    "r": {
     "delete_cmd_postfix": ") ",
     "delete_cmd_prefix": "rm(",
     "library": "var_list.r",
     "varRefreshCmd": "cat(var_dic_list()) "
    }
   },
   "types_to_exclude": [
    "module",
    "function",
    "builtin_function_or_method",
    "instance",
    "_Feature"
   ],
   "window_display": false
  }
 },
 "nbformat": 4,
 "nbformat_minor": 4
}
